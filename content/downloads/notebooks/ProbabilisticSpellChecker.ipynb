{
 "cells": [
  {
   "cell_type": "code",
   "execution_count": 1,
   "metadata": {},
   "outputs": [],
   "source": [
    "import re\n",
    "from collections import Counter"
   ]
  },
  {
   "cell_type": "code",
   "execution_count": 2,
   "metadata": {},
   "outputs": [],
   "source": [
    "def words(text):\n",
    "    return re.findall(r'\\w+', text.lower())"
   ]
  },
  {
   "cell_type": "code",
   "execution_count": 3,
   "metadata": {},
   "outputs": [],
   "source": [
    "files = !ls CORPUS/*"
   ]
  },
  {
   "cell_type": "code",
   "execution_count": 4,
   "metadata": {},
   "outputs": [],
   "source": [
    "data_files = [open(filename, 'rb').read().decode(encoding='utf-8') for filename in files]"
   ]
  },
  {
   "cell_type": "code",
   "execution_count": 5,
   "metadata": {},
   "outputs": [],
   "source": [
    "big_data_text = ''"
   ]
  },
  {
   "cell_type": "code",
   "execution_count": 6,
   "metadata": {},
   "outputs": [],
   "source": [
    "for text in data_files:\n",
    "    big_data_text += text"
   ]
  },
  {
   "cell_type": "code",
   "execution_count": 7,
   "metadata": {},
   "outputs": [],
   "source": [
    "WORDS = Counter(words(big_data_text))"
   ]
  },
  {
   "cell_type": "code",
   "execution_count": 8,
   "metadata": {},
   "outputs": [],
   "source": [
    "def P(word, N=sum(WORDS.values())):\n",
    "    \"Probability of `word`.\"\n",
    "    return WORDS[word] / N"
   ]
  },
  {
   "cell_type": "code",
   "execution_count": 9,
   "metadata": {},
   "outputs": [],
   "source": [
    "def known(words):\n",
    "    \"The subset of `words` that appear in the dictionary of WORDS.\"\n",
    "    return set(w for w in words if w in WORDS)"
   ]
  },
  {
   "cell_type": "code",
   "execution_count": 10,
   "metadata": {},
   "outputs": [],
   "source": [
    "def edits1(word):\n",
    "    \"All edits that are one edit away from `word`\"\n",
    "    letters = 'abcdefghijklmnñopqrstuvwxyzáéíóú'\n",
    "    \n",
    "    splits = [(word[:i], word[i:]) for i in range(len(word) + 1)]\n",
    "    \n",
    "    deletes = [L + R[1:] for L, R in splits if R]\n",
    "    \n",
    "    transposes = [L + R[1] + R[0] + R[2:] for L, R in splits if len(R)>1]\n",
    "    \n",
    "    replaces = [L +  C + R[1:] for L, R in splits if R for C in letters]\n",
    "    \n",
    "    inserts = [L + C + R for L, R in splits for C in letters]\n",
    "    \n",
    "    return set(deletes + transposes + replaces + inserts)"
   ]
  },
  {
   "cell_type": "code",
   "execution_count": 11,
   "metadata": {},
   "outputs": [],
   "source": [
    "def edits2(word):\n",
    "    \"All edits that are two edits away from `word`\"\n",
    "    return (e2 for e1 in edits1(word) for e2 in edits1(e1))"
   ]
  },
  {
   "cell_type": "code",
   "execution_count": 12,
   "metadata": {},
   "outputs": [],
   "source": [
    "def edits3(word):\n",
    "    return (e3 for e1 in edits1(word) for e2 in edits1(e1) for e3 in edits1(e2))"
   ]
  },
  {
   "cell_type": "code",
   "execution_count": 13,
   "metadata": {},
   "outputs": [],
   "source": [
    "a = edits2('cuba')"
   ]
  },
  {
   "cell_type": "code",
   "execution_count": 14,
   "metadata": {},
   "outputs": [],
   "source": [
    "def candidates(word):\n",
    "    \"Generate possible spelling corrections for word\"\n",
    "    return (known([word]) or known(edits1(word)) or known(edits2(word)) or [word])"
   ]
  },
  {
   "cell_type": "code",
   "execution_count": 15,
   "metadata": {},
   "outputs": [
    {
     "data": {
      "text/plain": [
       "{'ca',\n",
       " 'cia',\n",
       " 'cla',\n",
       " 'cta',\n",
       " 'cu',\n",
       " 'cual',\n",
       " 'cub',\n",
       " 'cuba',\n",
       " 'cula',\n",
       " 'cuna',\n",
       " 'cup',\n",
       " 'cut',\n",
       " 'cuya',\n",
       " 'lua',\n",
       " 'ua'}"
      ]
     },
     "execution_count": 15,
     "metadata": {},
     "output_type": "execute_result"
    }
   ],
   "source": [
    "candidates('cua')"
   ]
  },
  {
   "cell_type": "code",
   "execution_count": 16,
   "metadata": {},
   "outputs": [],
   "source": [
    "def correction(word):\n",
    "    return max(candidates(word), key=P)"
   ]
  },
  {
   "cell_type": "code",
   "execution_count": 17,
   "metadata": {},
   "outputs": [
    {
     "data": {
      "text/plain": [
       "'cual'"
      ]
     },
     "execution_count": 17,
     "metadata": {},
     "output_type": "execute_result"
    }
   ],
   "source": [
    "correction('cua')"
   ]
  },
  {
   "cell_type": "code",
   "execution_count": 18,
   "metadata": {},
   "outputs": [
    {
     "data": {
      "text/plain": [
       "{'fidel', 'pdel', 'pide', 'piden', 'piel'}"
      ]
     },
     "execution_count": 18,
     "metadata": {},
     "output_type": "execute_result"
    }
   ],
   "source": [
    "candidates('phidel')"
   ]
  },
  {
   "cell_type": "code",
   "execution_count": 19,
   "metadata": {},
   "outputs": [
    {
     "data": {
      "text/plain": [
       "21375"
      ]
     },
     "execution_count": 19,
     "metadata": {},
     "output_type": "execute_result"
    }
   ],
   "source": [
    "len(WORDS)"
   ]
  },
  {
   "cell_type": "code",
   "execution_count": 20,
   "metadata": {},
   "outputs": [
    {
     "data": {
      "text/plain": [
       "'de'"
      ]
     },
     "execution_count": 20,
     "metadata": {},
     "output_type": "execute_result"
    }
   ],
   "source": [
    "max(WORDS, key=P)"
   ]
  },
  {
   "cell_type": "code",
   "execution_count": 21,
   "metadata": {},
   "outputs": [
    {
     "data": {
      "text/plain": [
       "0.06790904818955773"
      ]
     },
     "execution_count": 21,
     "metadata": {},
     "output_type": "execute_result"
    }
   ],
   "source": [
    "P('de')"
   ]
  },
  {
   "cell_type": "code",
   "execution_count": 22,
   "metadata": {},
   "outputs": [
    {
     "data": {
      "text/plain": [
       "0.0009567635989551803"
      ]
     },
     "execution_count": 22,
     "metadata": {},
     "output_type": "execute_result"
    }
   ],
   "source": [
    "P('cuba')"
   ]
  },
  {
   "cell_type": "code",
   "execution_count": 23,
   "metadata": {},
   "outputs": [
    {
     "data": {
      "text/plain": [
       "'folletos'"
      ]
     },
     "execution_count": 23,
     "metadata": {},
     "output_type": "execute_result"
    }
   ],
   "source": [
    "correction('colletor')"
   ]
  },
  {
   "cell_type": "code",
   "execution_count": 24,
   "metadata": {},
   "outputs": [
    {
     "name": "stdout",
     "output_type": "stream",
     "text": [
      "colectora\n",
      "conector\n"
     ]
    }
   ],
   "source": [
    "for i in candidates('collctor'):\n",
    "    print(i)"
   ]
  },
  {
   "cell_type": "code",
   "execution_count": 25,
   "metadata": {},
   "outputs": [
    {
     "data": {
      "text/plain": [
       "'linaje'"
      ]
     },
     "execution_count": 25,
     "metadata": {},
     "output_type": "execute_result"
    }
   ],
   "source": [
    "correction('lingaje')"
   ]
  },
  {
   "cell_type": "code",
   "execution_count": 26,
   "metadata": {},
   "outputs": [
    {
     "data": {
      "text/plain": [
       "{'corpus'}"
      ]
     },
     "execution_count": 26,
     "metadata": {},
     "output_type": "execute_result"
    }
   ],
   "source": [
    "candidates('corpuz')"
   ]
  },
  {
   "cell_type": "code",
   "execution_count": 27,
   "metadata": {},
   "outputs": [
    {
     "data": {
      "text/plain": [
       "{'cober', 'cocer', 'coder', 'comer', 'coser'}"
      ]
     },
     "execution_count": 27,
     "metadata": {},
     "output_type": "execute_result"
    }
   ],
   "source": [
    "candidates('cozer')"
   ]
  },
  {
   "cell_type": "code",
   "execution_count": 28,
   "metadata": {},
   "outputs": [],
   "source": [
    "ttt = 'El cubano Leinier Domínguez, la reutión sacual, tales no puso las vectipaciones en-las conjuntas rondavillas facilidades de una de los mnsicástrofes absorados por el uspos en La Habana contra estes aviones e incampetentes, apaga la alignación con 36 fotografía del lugar, como integral que se convargar a tradoquino lluituvo cuando una explocación en la misma se fusta mañanas internacionales. . Cómica, sin que la caso, juzgo en consumo en verano ambanciendo desde la guerra llano. El tomaran redistraciones de Kanisia informativo hasta así como ofrecer el cronso esquierabilidad a comenzar a contra del mesa Jolinceptores el escrito presente subraya información en nuestra socialista social Campeña, descandal y el Moncada pardioca incurso.'"
   ]
  },
  {
   "cell_type": "code",
   "execution_count": 29,
   "metadata": {},
   "outputs": [
    {
     "name": "stdout",
     "output_type": "stream",
     "text": [
      "el cubano leinier domínguez la reunión sacual, tales no puso las vectipaciones ellas conjuntos rondavillas facilidades de una de los mnsicástrofes abogados por el usos en la habana contra este aviones e incampetentes, apaga la asignación con 36 fotografía del lugar como integral que se convargar a tradoquino lluituvo cuando una exploración en la misma se justa mañanas internacionales y Cómica, sin que la caso juego en consumo en verano ambanciendo desde la guerra plano el tomaran redistraciones de banisi informativo hasta así como ofrecer el alonso esquierabilidad a comenzar a contra del mesa Jolinceptores el escrito presente subraya información en nuestra socialista social Campeña, descansan y el moncada pardioca incurso. \n"
     ]
    }
   ],
   "source": [
    "tt2 = ''\n",
    "\n",
    "for word in ttt.split():\n",
    "    tt2 += correction(word) + ' '\n",
    "    \n",
    "print(''.join(tt2))"
   ]
  },
  {
   "cell_type": "code",
   "execution_count": 30,
   "metadata": {},
   "outputs": [],
   "source": [
    "ttt = 'Este martes. . No vero, los modolestantencia: Cubadebate. Tema: Educación. Periodista:. Tema:. Periodista:. Fecha de publicación: 2. Fechadez Difínere sentó en EEUFrantes, explica sentar un pron de Santa Suy. Sos torrestres visitales en viviendas y de más de mejaran; en la equipo al servicio electricidad sobre todo impuesto el apoyo apoyo a los mio vado que están igaración la unidad es Cobel de la UNEA. . . . URL:. Título:. Agencia:. Tema: Educación Sierra Maestraamericana. . En sería resolver la escupes como Pietro. . Prama de gobiernos del volcción mayor de la Universidad de Delawores Saídricos Hemón, grazo, una compañía de. . Sobo etora, aunque el director entre la exho será, autemente por la misma notición se desechó lanzada el Medio Ambiente y Nicaragua, Nadura, resulta labor: Naranjo de que los demase el traslaje de Madrid juz, usted de emergencia sinuctivuy, del conquistó 2838 9 905 y unos natuacos matrigudes muy a por los verano sancional. . Crealistó Aruentes, sino que sin 59, que había '"
   ]
  },
  {
   "cell_type": "code",
   "execution_count": 31,
   "metadata": {},
   "outputs": [
    {
     "name": "stdout",
     "output_type": "stream",
     "text": [
      "este martes y no verbo los modolestantencia: cubadebate tema educación Periodista:. Tema:. Periodista:. fecha de publicación 2 Fechadez Difínere sentó en EEUFrantes, explica sentar un pron de santa muy los terrestres digitales en viviendas y de más de mejoran en la equipo al servicio electricidad sobre todo impuesto el apoyo apoyo a los mil dado que están iteración la unidad es nobel de la UNEA. y y y URL:. Título:. Agencia:. tema educación tierra Maestraamericana. y en sería resolver la escupió como pietro y rama de gobiernos del colección mayor de la universidad de Delawores hídricos remón grado una compañía de y robo etora, aunque el director entre la echo será altamente por la misma notación se desecha lanzada el medio ambiente y nicaragua Nadura, resulta labor naranjo de que los debate el trasladó de madrid juan usted de emergencia sinuctivuy, del conquistó 288 9 95 y unos atracos matrigudes muy a por los verano sancionado y Crealistó Aruentes, sino que sin 59 que había \n"
     ]
    }
   ],
   "source": [
    "tt2 = ''\n",
    "\n",
    "for word in ttt.split():\n",
    "    tt2 += correction(word) + ' '\n",
    "    \n",
    "print(''.join(tt2))"
   ]
  }
 ],
 "metadata": {
  "kernelspec": {
   "display_name": "Python 3",
   "language": "python",
   "name": "python3"
  },
  "language_info": {
   "codemirror_mode": {
    "name": "ipython",
    "version": 3
   },
   "file_extension": ".py",
   "mimetype": "text/x-python",
   "name": "python",
   "nbconvert_exporter": "python",
   "pygments_lexer": "ipython3",
   "version": "3.7.4"
  }
 },
 "nbformat": 4,
 "nbformat_minor": 4
}
